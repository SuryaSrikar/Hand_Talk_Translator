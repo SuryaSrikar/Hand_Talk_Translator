{
  "nbformat": 4,
  "nbformat_minor": 0,
  "metadata": {
    "colab": {
      "name": "ShellHack2019.ipynb",
      "provenance": []
    },
    "kernelspec": {
      "name": "python3",
      "display_name": "Python 3"
    },
    "accelerator": "GPU"
  },
  "cells": [
    {
      "cell_type": "code",
      "metadata": {
        "id": "bgvzNFV77Yk3",
        "colab_type": "code",
        "outputId": "acf427f8-ee46-4b39-95a1-31f757f208dc",
        "colab": {
          "base_uri": "https://localhost:8080/",
          "height": 111
        }
      },
      "source": [
        "import tensorflow as tf\n",
        "import tflearn\n",
        "from tflearn.layers.conv import conv_2d,max_pool_2d\n",
        "from tflearn.layers.core import input_data,dropout,fully_connected\n",
        "from tflearn.layers.estimator import regression\n",
        "import numpy as np\n",
        "from tensorflow.contrib import lite\n",
        "\n",
        "from sklearn.utils import shuffle\n",
        "\n",
        "print( tf.VERSION )"
      ],
      "execution_count": 1,
      "outputs": [
        {
          "output_type": "stream",
          "text": [
            "WARNING:tensorflow:From /usr/local/lib/python3.6/dist-packages/tensorflow/python/framework/op_def_library.py:263: colocate_with (from tensorflow.python.framework.ops) is deprecated and will be removed in a future version.\n",
            "Instructions for updating:\n",
            "Colocations handled automatically by placer.\n",
            "1.13.0-rc1\n"
          ],
          "name": "stdout"
        }
      ]
    },
    {
      "cell_type": "code",
      "metadata": {
        "id": "hpU1x9_JBVM0",
        "colab_type": "code",
        "outputId": "37e47b98-1d5c-4c55-c247-4011089d3842",
        "colab": {
          "base_uri": "https://localhost:8080/",
          "height": 54
        }
      },
      "source": [
        "import cv2\n",
        "\n",
        "from google.colab import drive\n",
        "\n",
        "# This will prompt for authorization.\n",
        "drive.mount('/content/drive')\n",
        "\n",
        "import os\n",
        "os.chdir('/content/drive/My Drive')\n",
        "# setting the working directory\n",
        "os.getcwd()"
      ],
      "execution_count": 2,
      "outputs": [
        {
          "output_type": "stream",
          "text": [
            "Drive already mounted at /content/drive; to attempt to forcibly remount, call drive.mount(\"/content/drive\", force_remount=True).\n"
          ],
          "name": "stdout"
        },
        {
          "output_type": "execute_result",
          "data": {
            "text/plain": [
              "'/content/drive/My Drive'"
            ]
          },
          "metadata": {
            "tags": []
          },
          "execution_count": 2
        }
      ]
    },
    {
      "cell_type": "code",
      "metadata": {
        "id": "tyVWWvmJ7cVb",
        "colab_type": "code",
        "outputId": "ab5f259a-216c-46ee-f40a-f902726c282a",
        "colab": {
          "base_uri": "https://localhost:8080/",
          "height": 247
        }
      },
      "source": [
        "\n",
        "#Load Images from Swing\n",
        "path = '/content/drive/My Drive/Colab Notebooks/Dataset/'\n",
        "\n",
        "#Load Images from Swing\n",
        "loadedImages = []\n",
        "for i in range(0, 200):\n",
        "  image = cv2.imread(path + '/SwingImages/swing_' + str(i) + '.png')\n",
        "  gray_image = cv2.cvtColor(image, cv2.COLOR_BGR2GRAY)\n",
        "  loadedImages.append(gray_image.reshape(89, 100, 1))    \n",
        "    \n",
        "swing_length = len(loadedImages)\n",
        "\n",
        "#Load Images From Palm\n",
        "for i in range(0, 200):\n",
        "  image = cv2.imread( path +  '/PalmImages/palm_' + str(i) + '.png')\n",
        "  gray_image = cv2.cvtColor(image, cv2.COLOR_BGR2GRAY)\n",
        "  loadedImages.append(gray_image.reshape(89, 100, 1))\n",
        "\n",
        "palm_length = len(loadedImages)- swing_length\n",
        "#Load Images From Fist\n",
        "for i in range(0, 200):\n",
        "  image = cv2.imread(path + '/FistImages/fist_' + str(i) + '.png')\n",
        "  gray_image = cv2.cvtColor(image, cv2.COLOR_BGR2GRAY)\n",
        "  loadedImages.append(gray_image.reshape(89, 100, 1))\n",
        "\n",
        "fist_length = len(loadedImages) - swing_length -palm_length\n",
        "\n",
        "# Create OutputVector\n",
        "\n",
        "outputVectors = []\n",
        "for i in range(0, swing_length):\n",
        "  outputVectors.append([1, 0, 0])\n",
        "\n",
        "for i in range(0, palm_length):\n",
        "  outputVectors.append([0, 1, 0])\n",
        "\n",
        "for i in range(0, fist_length):\n",
        "  outputVectors.append([0, 0, 1])\n",
        "\n"
      ],
      "execution_count": 3,
      "outputs": [
        {
          "output_type": "error",
          "ename": "KeyboardInterrupt",
          "evalue": "ignored",
          "traceback": [
            "\u001b[0;31m---------------------------------------------------------------------------\u001b[0m",
            "\u001b[0;31mKeyboardInterrupt\u001b[0m                         Traceback (most recent call last)",
            "\u001b[0;32m<ipython-input-3-f68b2d8cccab>\u001b[0m in \u001b[0;36m<module>\u001b[0;34m()\u001b[0m\n\u001b[1;32m      4\u001b[0m \u001b[0mloadedImages\u001b[0m \u001b[0;34m=\u001b[0m \u001b[0;34m[\u001b[0m\u001b[0;34m]\u001b[0m\u001b[0;34m\u001b[0m\u001b[0;34m\u001b[0m\u001b[0m\n\u001b[1;32m      5\u001b[0m \u001b[0;32mfor\u001b[0m \u001b[0mi\u001b[0m \u001b[0;32min\u001b[0m \u001b[0mrange\u001b[0m\u001b[0;34m(\u001b[0m\u001b[0;36m0\u001b[0m\u001b[0;34m,\u001b[0m \u001b[0;36m200\u001b[0m\u001b[0;34m)\u001b[0m\u001b[0;34m:\u001b[0m\u001b[0;34m\u001b[0m\u001b[0;34m\u001b[0m\u001b[0m\n\u001b[0;32m----> 6\u001b[0;31m   \u001b[0mimage\u001b[0m \u001b[0;34m=\u001b[0m \u001b[0mcv2\u001b[0m\u001b[0;34m.\u001b[0m\u001b[0mimread\u001b[0m\u001b[0;34m(\u001b[0m\u001b[0mpath\u001b[0m \u001b[0;34m+\u001b[0m \u001b[0;34m'/SwingImages/swing_'\u001b[0m \u001b[0;34m+\u001b[0m \u001b[0mstr\u001b[0m\u001b[0;34m(\u001b[0m\u001b[0mi\u001b[0m\u001b[0;34m)\u001b[0m \u001b[0;34m+\u001b[0m \u001b[0;34m'.png'\u001b[0m\u001b[0;34m)\u001b[0m\u001b[0;34m\u001b[0m\u001b[0;34m\u001b[0m\u001b[0m\n\u001b[0m\u001b[1;32m      7\u001b[0m   \u001b[0mgray_image\u001b[0m \u001b[0;34m=\u001b[0m \u001b[0mcv2\u001b[0m\u001b[0;34m.\u001b[0m\u001b[0mcvtColor\u001b[0m\u001b[0;34m(\u001b[0m\u001b[0mimage\u001b[0m\u001b[0;34m,\u001b[0m \u001b[0mcv2\u001b[0m\u001b[0;34m.\u001b[0m\u001b[0mCOLOR_BGR2GRAY\u001b[0m\u001b[0;34m)\u001b[0m\u001b[0;34m\u001b[0m\u001b[0;34m\u001b[0m\u001b[0m\n\u001b[1;32m      8\u001b[0m   \u001b[0mloadedImages\u001b[0m\u001b[0;34m.\u001b[0m\u001b[0mappend\u001b[0m\u001b[0;34m(\u001b[0m\u001b[0mgray_image\u001b[0m\u001b[0;34m.\u001b[0m\u001b[0mreshape\u001b[0m\u001b[0;34m(\u001b[0m\u001b[0;36m89\u001b[0m\u001b[0;34m,\u001b[0m \u001b[0;36m100\u001b[0m\u001b[0;34m,\u001b[0m \u001b[0;36m1\u001b[0m\u001b[0;34m)\u001b[0m\u001b[0;34m)\u001b[0m\u001b[0;34m\u001b[0m\u001b[0;34m\u001b[0m\u001b[0m\n",
            "\u001b[0;31mKeyboardInterrupt\u001b[0m: "
          ]
        }
      ]
    },
    {
      "cell_type": "code",
      "metadata": {
        "id": "Fr8vGDvj9w-B",
        "colab_type": "code",
        "colab": {}
      },
      "source": [
        "#Load Images from Swing\n",
        "path = '/content/drive/My Drive/Colab Notebooks/Dataset/'\n",
        "\n",
        "#Load Images from Swing\n",
        "loadedImages = []\n",
        "for i in range(1, 85):\n",
        "  image = cv2.imread(path + '/B/B_' + str(i) + '.png')\n",
        "  gray_image = cv2.cvtColor(image, cv2.COLOR_BGR2GRAY)\n",
        "  loadedImages.append(gray_image.reshape(99, 100, 1))    \n",
        "    \n",
        "B_length = len(loadedImages)\n",
        "\n",
        "\n",
        "for i in range(1, 97):\n",
        "  image = cv2.imread(path + '/C/C_' + str(i) + '.png')\n",
        "  gray_image = cv2.cvtColor(image, cv2.COLOR_BGR2GRAY)\n",
        "  loadedImages.append(gray_image.reshape(99, 100, 1))    \n",
        "    \n",
        "C_length = len(loadedImages) - B_length\n",
        "\n",
        "outputVectors = []\n",
        "for i in range(0, B_length):\n",
        "  outputVectors.append([1,0])\n",
        "  \n",
        "for i in range(0, C_length):\n",
        "  outputVectors.append([0,1])"
      ],
      "execution_count": 0,
      "outputs": []
    },
    {
      "cell_type": "code",
      "metadata": {
        "id": "yooQxoh39-yX",
        "colab_type": "code",
        "colab": {}
      },
      "source": [
        "testImages = []\n",
        "path = '/content/drive/My Drive/Colab Notebooks/'\n",
        "#Load Images for swing\n",
        "for i in range(0, 100):\n",
        "    image = cv2.imread(path + 'Dataset/SwingTest/swing_' + str(i) + '.png')\n",
        "    gray_image = cv2.cvtColor(image, cv2.COLOR_BGR2GRAY)\n",
        "    testImages.append(gray_image.reshape(89, 100, 1))\n",
        "\n",
        "swing_length = len(testImages)\n",
        "\n",
        "#Load Images for Palm\n",
        "for i in range(0, 100):\n",
        "    image = cv2.imread(path + 'Dataset/PalmTest/palm_' + str(i) + '.png')\n",
        "    gray_image = cv2.cvtColor(image, cv2.COLOR_BGR2GRAY)\n",
        "    testImages.append(gray_image.reshape(89, 100, 1))\n",
        "palm_length = len(testImages) - swing_length    \n",
        "#Load Images for Fist\n",
        "for i in range(0, 100):\n",
        "    image = cv2.imread(path + 'Dataset/FistTest/fist_' + str(i) + '.png')\n",
        "    gray_image = cv2.cvtColor(image, cv2.COLOR_BGR2GRAY)\n",
        "    testImages.append(gray_image.reshape(89, 100, 1))\n",
        "fist_length = len(testImages) - swing_length -palm_length\n",
        "testLabels = []\n",
        "\n",
        "for i in range(0, swing_length):\n",
        "    testLabels.append([1, 0, 0])\n",
        "    \n",
        "for i in range(0, palm_length):\n",
        "    testLabels.append([0, 1, 0])\n",
        "\n",
        "for i in range(0, fist_length):\n",
        "    testLabels.append([0, 0, 1])"
      ],
      "execution_count": 0,
      "outputs": []
    },
    {
      "cell_type": "code",
      "metadata": {
        "id": "UaNqZTen9veI",
        "colab_type": "code",
        "colab": {}
      },
      "source": [
        "testImages = []\n",
        "path = '/content/drive/My Drive/Colab Notebooks/Dataset/'\n",
        "#Load Images for swing\n",
        "for i in range(50, 60):\n",
        "    image = cv2.imread(path + '/B/B_' + str(i) + '.png')\n",
        "    gray_image = cv2.cvtColor(image, cv2.COLOR_BGR2GRAY)\n",
        "    testImages.append(gray_image.reshape(99, 100, 1))\n",
        "\n",
        "B_length = len(testImages)\n",
        "\n",
        "\n",
        "for i in range(50, 60):\n",
        "    image = cv2.imread(path + '/C/C_' + str(i) + '.png')\n",
        "    gray_image = cv2.cvtColor(image, cv2.COLOR_BGR2GRAY)\n",
        "    testImages.append(gray_image.reshape(99, 100, 1))\n",
        "\n",
        "C_length = len(testImages) - B_length\n",
        "\n",
        "\n",
        "testLabels = []\n",
        "\n",
        "for i in range(0, B_length):\n",
        "    testLabels.append([1,0])\n",
        "    \n",
        "for i in range(0, C_length):\n",
        "    testLabels.append([0,1])"
      ],
      "execution_count": 0,
      "outputs": []
    },
    {
      "cell_type": "code",
      "metadata": {
        "id": "5M73B4Db-QOw",
        "colab_type": "code",
        "colab": {
          "base_uri": "https://localhost:8080/",
          "height": 259
        },
        "outputId": "36313d3e-097b-47bd-a753-27f732ebb132"
      },
      "source": [
        "# Define the CNN Model\n",
        "tf.reset_default_graph()\n",
        "convnet=input_data(shape=[None,99,100,1],name='input')\n",
        "convnet=conv_2d(convnet,32,2,activation='relu')\n",
        "convnet=max_pool_2d(convnet,2)\n",
        "convnet=conv_2d(convnet,64,2,activation='relu')\n",
        "convnet=max_pool_2d(convnet,2)\n",
        "\n",
        "convnet=conv_2d(convnet,128,2,activation='relu')\n",
        "convnet=max_pool_2d(convnet,2)\n",
        "\n",
        "convnet=conv_2d(convnet,256,2,activation='relu')\n",
        "convnet=max_pool_2d(convnet,2)\n",
        "\n",
        "convnet=conv_2d(convnet,256,2,activation='relu')\n",
        "convnet=max_pool_2d(convnet,2)\n",
        "\n",
        "convnet=conv_2d(convnet,128,2,activation='relu')\n",
        "convnet=max_pool_2d(convnet,2)\n",
        "\n",
        "convnet=conv_2d(convnet,64,2,activation='relu')\n",
        "convnet=max_pool_2d(convnet,2)\n",
        "\n",
        "convnet=fully_connected(convnet,1000,activation='relu')\n",
        "convnet=dropout(convnet,0.75)\n",
        "\n",
        "convnet=fully_connected(convnet,2,activation='softmax')\n",
        "\n",
        "convnet=regression(convnet,optimizer='adam',learning_rate=0.001,loss='categorical_crossentropy',name='regression')\n",
        "\n",
        "model=tflearn.DNN(convnet,tensorboard_verbose=0)"
      ],
      "execution_count": 6,
      "outputs": [
        {
          "output_type": "stream",
          "text": [
            "WARNING:tensorflow:From /usr/local/lib/python3.6/dist-packages/tflearn/initializations.py:119: UniformUnitScaling.__init__ (from tensorflow.python.ops.init_ops) is deprecated and will be removed in a future version.\n",
            "Instructions for updating:\n",
            "Use tf.initializers.variance_scaling instead with distribution=uniform to get equivalent behavior.\n",
            "WARNING:tensorflow:From /usr/local/lib/python3.6/dist-packages/tflearn/layers/core.py:239: calling dropout (from tensorflow.python.ops.nn_ops) with keep_prob is deprecated and will be removed in a future version.\n",
            "Instructions for updating:\n",
            "Please use `rate` instead of `keep_prob`. Rate should be set to `rate = 1 - keep_prob`.\n",
            "WARNING:tensorflow:From /usr/local/lib/python3.6/dist-packages/tflearn/objectives.py:66: calling reduce_sum_v1 (from tensorflow.python.ops.math_ops) with keep_dims is deprecated and will be removed in a future version.\n",
            "Instructions for updating:\n",
            "keep_dims is deprecated, use keepdims instead\n",
            "WARNING:tensorflow:From /usr/local/lib/python3.6/dist-packages/tensorflow/python/ops/math_ops.py:3066: to_int32 (from tensorflow.python.ops.math_ops) is deprecated and will be removed in a future version.\n",
            "Instructions for updating:\n",
            "Use tf.cast instead.\n"
          ],
          "name": "stdout"
        }
      ]
    },
    {
      "cell_type": "code",
      "metadata": {
        "id": "3nTmsDupDfLw",
        "colab_type": "code",
        "colab": {}
      },
      "source": [
        ""
      ],
      "execution_count": 0,
      "outputs": []
    },
    {
      "cell_type": "code",
      "metadata": {
        "id": "ON0CPFgg-RWk",
        "colab_type": "code",
        "outputId": "fb331048-4798-4074-848d-38bf9c2253a0",
        "colab": {
          "base_uri": "https://localhost:8080/",
          "height": 128
        }
      },
      "source": [
        "# Shuffle Training Data\n",
        "loadedImages, outputVectors = shuffle(loadedImages, outputVectors, random_state=0)\n",
        "\n",
        "# Train model\n",
        "model.fit(loadedImages, outputVectors, n_epoch=50,\n",
        "           validation_set = (testImages, testLabels),\n",
        "           snapshot_step=100, show_metric=True, run_id='convnet_coursera')\n",
        "\n",
        "model.save(\"keras_model.h5\")"
      ],
      "execution_count": 7,
      "outputs": [
        {
          "output_type": "stream",
          "text": [
            "Training Step: 149  | total loss: \u001b[1m\u001b[32m0.41475\u001b[0m\u001b[0m | time: 2.275s\n",
            "| Adam | epoch: 050 | loss: 0.41475 - acc: 0.9600 -- iter: 128/180\n",
            "Training Step: 150  | total loss: \u001b[1m\u001b[32m0.37668\u001b[0m\u001b[0m | time: 4.589s\n",
            "| Adam | epoch: 050 | loss: 0.37668 - acc: 0.9640 | val_loss: 0.00775 - val_acc: 1.0000 -- iter: 180/180\n",
            "--\n",
            "INFO:tensorflow:/content/drive/My Drive/keras_model.h5 is not in all_model_checkpoint_paths. Manually adding it.\n"
          ],
          "name": "stdout"
        }
      ]
    },
    {
      "cell_type": "code",
      "metadata": {
        "id": "n9B0NfvcHh96",
        "colab_type": "code",
        "colab": {}
      },
      "source": [
        "from google.colab import drive\n",
        "drive.mount('/content/drive')"
      ],
      "execution_count": 0,
      "outputs": []
    },
    {
      "cell_type": "code",
      "metadata": {
        "id": "THl14ZhoIe8v",
        "colab_type": "code",
        "colab": {}
      },
      "source": [
        "\n",
        "def getPredictedClass():\n",
        "  image = cv2.imread(path + '/C/C_10.png')\n",
        "  gray_image = cv2.cvtColor(image, cv2.COLOR_BGR2GRAY)\n",
        "  prediction = model.predict([gray_image.reshape(99, 100, 1)])\n",
        "  return np.argmax(prediction), (np.amax(prediction) / (prediction[0][0] + prediction[0][1] )) #(np.amax(prediction) / (prediction[0][0] + prediction[0][1] + prediction[0][2]))\n",
        "\n",
        "def showStatistics(predictedClass, confidence):\n",
        "  className = \"\"\n",
        "  if predictedClass == 0:\n",
        "    className = \"Swing\"\n",
        "  elif predictedClass == 1:\n",
        "    className = \"Palm\"\n",
        "  elif predictedClass == 2:\n",
        "    className = \"Fist\"\n",
        "  print(className)"
      ],
      "execution_count": 0,
      "outputs": []
    },
    {
      "cell_type": "code",
      "metadata": {
        "id": "-lA4BOcXJEKV",
        "colab_type": "code",
        "outputId": "31744765-fe00-482f-ecf3-86f33379f646",
        "colab": {
          "base_uri": "https://localhost:8080/",
          "height": 35
        }
      },
      "source": [
        "predictedClass, confidence = getPredictedClass()\n",
        "showStatistics(predictedClass, confidence)"
      ],
      "execution_count": 0,
      "outputs": [
        {
          "output_type": "stream",
          "text": [
            "Palm\n"
          ],
          "name": "stdout"
        }
      ]
    },
    {
      "cell_type": "code",
      "metadata": {
        "id": "YK8F-d2pOcHI",
        "colab_type": "code",
        "colab": {
          "base_uri": "https://localhost:8080/",
          "height": 72
        },
        "outputId": "0090f1e1-049b-4531-ffd1-cc0b52ae4ec9"
      },
      "source": [
        "!pip install h5py"
      ],
      "execution_count": 13,
      "outputs": [
        {
          "output_type": "stream",
          "text": [
            "Requirement already satisfied: h5py in /usr/local/lib/python3.6/dist-packages (2.8.0)\n",
            "Requirement already satisfied: numpy>=1.7 in /usr/local/lib/python3.6/dist-packages (from h5py) (1.16.5)\n",
            "Requirement already satisfied: six in /usr/local/lib/python3.6/dist-packages (from h5py) (1.12.0)\n"
          ],
          "name": "stdout"
        }
      ]
    },
    {
      "cell_type": "code",
      "metadata": {
        "id": "bZn1r8x3cco6",
        "colab_type": "code",
        "colab": {}
      },
      "source": [
        ""
      ],
      "execution_count": 0,
      "outputs": []
    }
  ]
}